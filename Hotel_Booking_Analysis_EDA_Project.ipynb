{
  "nbformat": 4,
  "nbformat_minor": 0,
  "metadata": {
    "colab": {
      "private_outputs": true,
      "provenance": [],
      "collapsed_sections": [
        "vncDsAP0Gaoa",
        "FJNUwmbgGyua",
        "w6K7xa23Elo4",
        "yQaldy8SH6Dl",
        "mDgbUHAGgjLW",
        "0wOQAZs5pc--",
        "KSlN3yHqYklG",
        "EM7whBJCYoAo",
        "DPwieZ5Bplvl",
        "n3dbpmDWp1ck",
        "Ag9LCva-p1cl",
        "lKogcMdatJAW",
        "OyUpylvyzId-"
      ]
    },
    "kernelspec": {
      "name": "python3",
      "display_name": "Python 3"
    },
    "language_info": {
      "name": "python"
    },
    "gpuClass": "standard"
  },
  "cells": [
    {
      "cell_type": "markdown",
      "source": [
        "# **Project Name**    - Hotel Booking Analysis\n",
        "\n"
      ],
      "metadata": {
        "id": "vncDsAP0Gaoa"
      }
    },
    {
      "cell_type": "markdown",
      "source": [
        "##### **Project Type**    - EDA\n",
        "##### **Contribution**    - Individual"
      ],
      "metadata": {
        "id": "beRrZCGUAJYm"
      }
    },
    {
      "cell_type": "markdown",
      "source": [
        "# **Project Summary -**"
      ],
      "metadata": {
        "id": "FJNUwmbgGyua"
      }
    },
    {
      "cell_type": "markdown",
      "source": [
        "The hotel booking dataset is a real-world record of hotel bookings for both a city hotel and a resort hotel. The project was conducted individually, and after analysing the dataset, it was discovered that it contained 119,390 rows and 32 columns. The data included information about hotel bookings, cancellations, arrival month, arrival year, guest details, and length of stay, among other things, from 2015 to 2017. The main objective of the project was to identify valuable insights from the data to help increase the hotels' revenue.\n",
        "\n",
        "The dataset had numerous null and duplicate values, which required data cleaning. To avoid affecting the original data, a copy was made, and column names were changed for clarity. All duplicate values were removed, and null values were replaced with 0. Rows with 0 counts of babies, children, and adults were dropped, and specified columns were converted to appropriate data types. Additionally, two new columns were created for total nights and total guests, combining information from weekend nights, week nights, and guests' information to obtain the total nights stayed and total guests who arrived.\n",
        "\n",
        "The analysis of the cleaned data provided valuable insights into hotel booking trends. By diving deep into the data, the researcher discovered insights such as the total number of nights stayed, deposit types, most reserved and assigned room types, customer arrivals by age group, the maximum number of bookings made by agents, and the top 10 countries that booked the hotels. These insights can help businesses identify areas for improvement and enhance their services. Customers can also make more informed decisions based on their specific requirements and preferences.\n",
        "\n",
        "One of the key findings was that the guest retention rate was low, with only 3.86% of guests returning. The city hotel was more popular than the resort hotel, and January was found to be the best time to book a hotel based on the lowest average daily rate. The analysis revealed that the highest number of bookings came from Portugal, followed by the UK, France, and other countries. This information can be used to target marketing efforts in these regions and increase the hotels' revenue.\n",
        "\n",
        "July and August were the busiest months for hotel bookings, which is not surprising given that it is a peak travel season in many parts of the world. To increase bookings, businesses should focus on the target group of pairs of two adults. Offering different offers and incentives to customers who keep bookings can also help increase the number of customers.\n",
        "\n",
        "For data visualization, the researcher used the seaborn and matplotlib libraries and various types of graphs, such as bar charts, displot, line charts, pie charts, scatter plots, box plots, correlation heatmaps, and pair plots. These visualizations helped to simplify complex data and make it more understandable.\n",
        "\n",
        "In conclusion, the analysis of the hotel booking dataset provided valuable insights into customer behaviour and booking trends. By understanding these insights, hotel businesses can make data-driven decisions to improve their services and customer experiences. Additionally, customers can make more informed decisions based on their specific requirements and preferences. Data visualization played a significant role in simplifying complex data, making it easier to understand and identify areas for improvement. Overall, the findings of this analysis can help businesses grow and enhance their services to meet customers' needs and preferences.\n"
      ],
      "metadata": {
        "id": "F6v_1wHtG2nS"
      }
    },
    {
      "cell_type": "markdown",
      "source": [
        "# **GitHub Link -**"
      ],
      "metadata": {
        "id": "w6K7xa23Elo4"
      }
    },
    {
      "cell_type": "markdown",
      "source": [
        "https://github.com/chota-mota01/Capstone-EDA-Project---Hotel-Booking"
      ],
      "metadata": {
        "id": "h1o69JH3Eqqn"
      }
    },
    {
      "cell_type": "markdown",
      "source": [
        "# **Problem Statement**\n"
      ],
      "metadata": {
        "id": "yQaldy8SH6Dl"
      }
    },
    {
      "cell_type": "markdown",
      "source": [
        "The hotel industry generates a vast amount of data, including customer information, room types, prices, and booking patterns. However, analyzing this data can be challenging and time-consuming, but it is crucial for hotel management to make informed decisions and improve their business operations. Analyzing the dataset can help the customers to know the best time of year to book a hotel room and optimal length of stay to get the best daily rate. The following dataset can help to explore various questions.\n",
        "\n",
        "The hotel booking dataset contains booking information for a city hotel and a resort hotel,includes information such as when the booking was made, length of stay, number of adults,children & babies, and the number of available parking spaces, country, customer types, market segment, distribution channels and many more factors. The data will help us understand the factors to optimize occupancy rates, increase revenue, and improve customer satisfaction.\n",
        "\n"
      ],
      "metadata": {
        "id": "DpeJGUA3kjGy"
      }
    },
    {
      "cell_type": "markdown",
      "source": [
        "#### **Define Your Business Objective?**"
      ],
      "metadata": {
        "id": "PH-0ReGfmX4f"
      }
    },
    {
      "cell_type": "markdown",
      "source": [
        "The main objective is to perform EDA on given dataset and provide actionable insights to enhance hotel business."
      ],
      "metadata": {
        "id": "PhDvGCAqmjP1"
      }
    },
    {
      "cell_type": "markdown",
      "source": [
        "# **General Guidelines** : -  "
      ],
      "metadata": {
        "id": "mDgbUHAGgjLW"
      }
    },
    {
      "cell_type": "markdown",
      "source": [
        "1.   Well-structured, formatted, and commented code is required. \n",
        "2.   Exception Handling, Production Grade Code & Deployment Ready Code will be a plus. Those students will be awarded some additional credits. \n",
        "     \n",
        "     The additional credits will have advantages over other students during Star Student selection.\n",
        "       \n",
        "             [ Note: - Deployment Ready Code is defined as, the whole .ipynb notebook should be executable in one go\n",
        "                       without a single error logged. ]\n",
        "\n",
        "3.   Each and every logic should have proper comments.\n",
        "4. You may add as many number of charts you want. Make Sure for each and every chart the following format should be answered.\n",
        "        \n",
        "\n",
        "```\n",
        "# Chart visualization code\n",
        "```\n",
        "            \n",
        "\n",
        "*   Why did you pick the specific chart?\n",
        "*   What is/are the insight(s) found from the chart?\n",
        "* Will the gained insights help creating a positive business impact? \n",
        "Are there any insights that lead to negative growth? Justify with specific reason.\n",
        "\n",
        "5. You have to create at least 20 logical & meaningful charts having important insights.\n",
        "\n",
        "\n",
        "[ Hints : - Do the Vizualization in  a structured way while following \"UBM\" Rule. \n",
        "\n",
        "U - Univariate Analysis,\n",
        "\n",
        "B - Bivariate Analysis (Numerical - Categorical, Numerical - Numerical, Categorical - Categorical)\n",
        "\n",
        "M - Multivariate Analysis\n",
        " ]\n",
        "\n",
        "\n",
        "\n"
      ],
      "metadata": {
        "id": "ZrxVaUj-hHfC"
      }
    },
    {
      "cell_type": "markdown",
      "source": [
        "# ***Let's Begin !***"
      ],
      "metadata": {
        "id": "O_i_v8NEhb9l"
      }
    },
    {
      "cell_type": "markdown",
      "source": [
        "## ***1. Know Your Data***"
      ],
      "metadata": {
        "id": "HhfV-JJviCcP"
      }
    },
    {
      "cell_type": "markdown",
      "source": [
        "### Import Libraries"
      ],
      "metadata": {
        "id": "Y3lxredqlCYt"
      }
    },
    {
      "cell_type": "code",
      "source": [
        "# Import Libraries\n",
        "import numpy as np\n",
        "import pandas as pd\n",
        "import seaborn as sns\n",
        "import matplotlib.pyplot as plt\n",
        "%matplotlib inline"
      ],
      "metadata": {
        "id": "M8Vqi-pPk-HR"
      },
      "execution_count": null,
      "outputs": []
    },
    {
      "cell_type": "markdown",
      "source": [
        "### Dataset Loading"
      ],
      "metadata": {
        "id": "3RnN4peoiCZX"
      }
    },
    {
      "cell_type": "code",
      "source": [
        "# Load Dataset\n",
        "from google.colab import drive\n",
        "drive.mount('/content/drive')"
      ],
      "metadata": {
        "id": "235jot_MPPp6"
      },
      "execution_count": null,
      "outputs": []
    },
    {
      "cell_type": "code",
      "source": [
        "# Reading Data\n",
        "path = '/content/drive/My Drive/Hotel Bookings.csv'\n",
        "hotel_data = pd.read_csv(path)"
      ],
      "metadata": {
        "id": "ML2D6GC7PYO1"
      },
      "execution_count": null,
      "outputs": []
    },
    {
      "cell_type": "markdown",
      "source": [
        "### Dataset First View"
      ],
      "metadata": {
        "id": "x71ZqKXriCWQ"
      }
    },
    {
      "cell_type": "code",
      "source": [
        "# Dataset First Look\n",
        "# head() method returns first 5 rows of the dataset\n",
        "hotel_data.head()"
      ],
      "metadata": {
        "id": "LWNFOSvLl09H"
      },
      "execution_count": null,
      "outputs": []
    },
    {
      "cell_type": "code",
      "source": [
        "# Dataset Last Look\n",
        "# tail() method returns last 5 rows of the dataset\n",
        "hotel_data.tail()"
      ],
      "metadata": {
        "id": "6BSgGax5RQne"
      },
      "execution_count": null,
      "outputs": []
    },
    {
      "cell_type": "code",
      "source": [
        "# If number is specified, head() returns specified number of rows\n",
        "hotel_data.head(7)"
      ],
      "metadata": {
        "id": "8UQg7zzpRbRL"
      },
      "execution_count": null,
      "outputs": []
    },
    {
      "cell_type": "markdown",
      "source": [
        "### Dataset Rows & Columns count"
      ],
      "metadata": {
        "id": "7hBIi_osiCS2"
      }
    },
    {
      "cell_type": "code",
      "source": [
        "# Dataset Rows & Columns count\n",
        "hotel_data.shape"
      ],
      "metadata": {
        "id": "Kllu7SJgmLij"
      },
      "execution_count": null,
      "outputs": []
    },
    {
      "cell_type": "markdown",
      "source": [
        "### Dataset Information"
      ],
      "metadata": {
        "id": "JlHwYmJAmNHm"
      }
    },
    {
      "cell_type": "code",
      "source": [
        "# Dataset Info\n",
        "hotel_data.info()"
      ],
      "metadata": {
        "id": "e9hRXRi6meOf"
      },
      "execution_count": null,
      "outputs": []
    },
    {
      "cell_type": "code",
      "source": [
        "# Columns present in dataset\n",
        "list(hotel_data.columns)"
      ],
      "metadata": {
        "id": "wM639UgO0FgO"
      },
      "execution_count": null,
      "outputs": []
    },
    {
      "cell_type": "markdown",
      "source": [
        "#### Duplicate Values"
      ],
      "metadata": {
        "id": "35m5QtbWiB9F"
      }
    },
    {
      "cell_type": "code",
      "source": [
        "# Dataset Duplicate Value Count\n",
        "hotel_data.duplicated().sum()"
      ],
      "metadata": {
        "id": "1sLdpKYkmox0"
      },
      "execution_count": null,
      "outputs": []
    },
    {
      "cell_type": "markdown",
      "source": [
        "#### Missing Values/Null Values"
      ],
      "metadata": {
        "id": "PoPl-ycgm1ru"
      }
    },
    {
      "cell_type": "code",
      "source": [
        "# Missing Values/Null Values Count\n",
        "hotel_data.isna().sum().sum()"
      ],
      "metadata": {
        "id": "GgHWkxvamxVg"
      },
      "execution_count": null,
      "outputs": []
    },
    {
      "cell_type": "code",
      "source": [
        "#Used isnull().sum method to view null value in each column\n",
        "hotel_data.isnull().sum()"
      ],
      "metadata": {
        "id": "8_I_c4ajHsFQ"
      },
      "execution_count": null,
      "outputs": []
    },
    {
      "cell_type": "code",
      "source": [
        "# Visualizing the missing values\n",
        "# Check Null value by plotting Heatmap\n",
        "from pickle import FALSE\n",
        "plt.figure(figsize=(12,6))\n",
        "sns.heatmap(hotel_data.isnull(),cbar=FALSE)"
      ],
      "metadata": {
        "id": "3q5wnI3om9sJ"
      },
      "execution_count": null,
      "outputs": []
    },
    {
      "cell_type": "markdown",
      "source": [
        "### What did you know about your dataset?"
      ],
      "metadata": {
        "id": "H0kj-8xxnORC"
      }
    },
    {
      "cell_type": "markdown",
      "source": [
        "The dataset given contains booking information for a city hotel and a resort hotel. We need to analyze the important factors in the dataset that govern the bookings.\n",
        "\n",
        "The dataset has 119390 rows and 32 columns. The dataset contains 129425 missing/null values and 31994 duplicate values. The null values in column children, country, agent and company are 4, 488, 16340 and 112593 respectively.\n",
        "\n",
        "Using seaborn library, we have visvualized the following missing/null values."
      ],
      "metadata": {
        "id": "gfoNAAC-nUe_"
      }
    },
    {
      "cell_type": "markdown",
      "source": [
        "## ***2. Understanding Your Variables***"
      ],
      "metadata": {
        "id": "nA9Y7ga8ng1Z"
      }
    },
    {
      "cell_type": "code",
      "source": [
        "# Dataset Columns\n",
        "hotel_data.columns"
      ],
      "metadata": {
        "id": "j7xfkqrt5Ag5"
      },
      "execution_count": null,
      "outputs": []
    },
    {
      "cell_type": "code",
      "source": [
        "# Dataset Describe\n",
        "hotel_data.describe(include='all')"
      ],
      "metadata": {
        "id": "DnOaZdaE5Q5t"
      },
      "execution_count": null,
      "outputs": []
    },
    {
      "cell_type": "markdown",
      "source": [
        "### Variables Description "
      ],
      "metadata": {
        "id": "PBTbrJXOngz2"
      }
    },
    {
      "cell_type": "markdown",
      "source": [
        "* **Hotel**       **:**  Resort Hotel , City Hotel\n",
        "* **is_cancelled**       **:**  Cancelled Booking (1,0)\n",
        "* **lead_time**       **:**  Number of days between booking and check-in date\n",
        "* **arrival_year**       **:**  Year of arrival \n",
        "* **arrival_month**       **:**  Month of arrival \n",
        "* **arrival_week_no**       **:**  Week number for arrival\n",
        "* **arrival_day** **:**  Day of arrival\n",
        "* **weekend_nights**       **:**  Hotel booked for number of weekend nights \n",
        "* **week_nights**       **:**  Hotel booked for number of week nights \n",
        "* **adults**       **:**  Number of adults stayed at the hotel\n",
        "* **children**       **:**  Number of children stayed at the hotel\n",
        "* **babies**       **:**  Number of babies stayed at the hotel\n",
        "* **meal**       **:**  Different kind of meal opted by the guest/customer\n",
        "* **country**       **:**  Country code\n",
        "* **market_segment**       **:**  Segment to which customer belongs\n",
        "* **Distribution_channel**       **:**  Stay accessed (corporate booking/Direct/TA)\n",
        "* **is_repeated_guest**       **:**  Repeated customers (0,1) \n",
        "* **previous_cancellation**       **:**  Prior Cancellation check\n",
        "* **previous_bookings**       **:**  Bookings done previously\n",
        "* **reserved_room**       **:**  Type of reserved room\n",
        "* **assigned_room**       **:** Type of assigned room\n",
        "* **booking_changes**       **:** Changes made in booking\n",
        "* **deposit_type**       **:** Type of deposit\n",
        "* **agent**       **:** Booking done through agent\n",
        "* **company**       **:** Booked through company\n",
        "* **days_in_waiting**       **:** Days in waiting list\n",
        "* **customer_type**       **:** Customer Type\n",
        "* **adr**       **:** Average Daily Rate\n",
        "* **req_car_parking**       **:** Requirement of car parking spaces\n",
        "* **special_requests**       **:** Additional special requirements\n",
        "* **reservation_status**       **:** Booking status\n",
        "* **reservation_status_date**       **:** Date of reservation status\n",
        "* **total_nights**       **:** Total stays in night\n",
        "* **total_guests**       **:** Total number of guests arrived"
      ],
      "metadata": {
        "id": "aJV4KIxSnxay"
      }
    },
    {
      "cell_type": "markdown",
      "source": [
        "### Check Unique Values for each variable."
      ],
      "metadata": {
        "id": "u3PMJOP6ngxN"
      }
    },
    {
      "cell_type": "code",
      "source": [
        "# Check Unique Values for each variable.\n",
        "for column in hotel_data:\n",
        "  print(hotel_data[column].unique())"
      ],
      "metadata": {
        "id": "zms12Yq5n-jE"
      },
      "execution_count": null,
      "outputs": []
    },
    {
      "cell_type": "code",
      "source": [
        "# Count of Unique Values for each variable.\n",
        "for col in hotel_data:\n",
        "  print(\"Count of unique values in\",col,\"is\",hotel_data[col].nunique(),\".\")"
      ],
      "metadata": {
        "id": "f8vYvaHuZWt9"
      },
      "execution_count": null,
      "outputs": []
    },
    {
      "cell_type": "code",
      "source": [
        "# Count of adults \n",
        "hotel_data['adults'].value_counts()"
      ],
      "metadata": {
        "id": "aUTUV_PGYJKs"
      },
      "execution_count": null,
      "outputs": []
    },
    {
      "cell_type": "code",
      "source": [
        "# Count of children\n",
        "hotel_data['children'].value_counts()"
      ],
      "metadata": {
        "id": "-XFx7BPhYYJ1"
      },
      "execution_count": null,
      "outputs": []
    },
    {
      "cell_type": "code",
      "source": [
        "# Count of babies\n",
        "hotel_data['babies'].value_counts()"
      ],
      "metadata": {
        "id": "P8D-6p28YeAj"
      },
      "execution_count": null,
      "outputs": []
    },
    {
      "cell_type": "code",
      "source": [
        "# Top 10 country with hotel booking counts\n",
        "hotel_data['country'].value_counts().head(10)"
      ],
      "metadata": {
        "id": "PWC0q6QwYiSH"
      },
      "execution_count": null,
      "outputs": []
    },
    {
      "cell_type": "code",
      "source": [
        "# Least 10 country with hotel booking counts\n",
        "hotel_data['country'].value_counts().tail(10)"
      ],
      "metadata": {
        "id": "7wy9arELZBVL"
      },
      "execution_count": null,
      "outputs": []
    },
    {
      "cell_type": "code",
      "source": [
        "# Count of Hotel\n",
        "hotel_data['hotel'].value_counts()"
      ],
      "metadata": {
        "id": "9UvI3mUcZqLm"
      },
      "execution_count": null,
      "outputs": []
    },
    {
      "cell_type": "code",
      "source": [
        "# Count of repeated guest\n",
        "hotel_data['is_repeated_guest'].value_counts()"
      ],
      "metadata": {
        "id": "nBC56TWXZhHm"
      },
      "execution_count": null,
      "outputs": []
    },
    {
      "cell_type": "code",
      "source": [
        "# Count of Meal\n",
        "hotel_data['meal'].value_counts()"
      ],
      "metadata": {
        "id": "yzoc3ISl7ohT"
      },
      "execution_count": null,
      "outputs": []
    },
    {
      "cell_type": "code",
      "source": [
        "# Count of Deposit type\n",
        "hotel_data['deposit_type'].value_counts()"
      ],
      "metadata": {
        "id": "AM1pHRsg_Spv"
      },
      "execution_count": null,
      "outputs": []
    },
    {
      "cell_type": "code",
      "source": [
        "# Count of Deposit type\n",
        "hotel_data['customer_type'].value_counts()"
      ],
      "metadata": {
        "id": "P_5vDTxJ9eZb"
      },
      "execution_count": null,
      "outputs": []
    },
    {
      "cell_type": "markdown",
      "source": [
        "## 3. ***Data Wrangling***"
      ],
      "metadata": {
        "id": "dauF4eBmngu3"
      }
    },
    {
      "cell_type": "markdown",
      "source": [
        "### Data Wrangling Code"
      ],
      "metadata": {
        "id": "bKJF3rekwFvQ"
      }
    },
    {
      "cell_type": "code",
      "source": [
        "# Write your code to make your dataset analysis ready.\n",
        "# Create copy of dataset\n",
        "hotel_df=hotel_data.copy()\n",
        "hotel_df.columns"
      ],
      "metadata": {
        "id": "5tXQWFqXZvY3"
      },
      "execution_count": null,
      "outputs": []
    },
    {
      "cell_type": "code",
      "source": [
        "\n",
        "# Renaming the specific columns \n",
        "hotel_df.rename(columns={'arrival_date_year':'arrival_year',\n",
        "                           'arrival_date_month':'arrival_month',\n",
        "                           'arrival_date_week_number': 'arrival_week_no',\n",
        "                           'arrival_date_day_of_month':'arrival_day',\n",
        "                           'stays_in_weekend_nights':'weekend_nights',\n",
        "                           'stays_in_week_nights':'week_nights',\n",
        "                           'reserved_room_type':'reserved_room',\n",
        "                           'assigned_room_type':'assigned_room',\n",
        "                           'days_in_waiting_list':'days_in_waiting',\n",
        "                           'previous_bookings_not_canceled':'previous_bookings',\n",
        "                           'required_car_parking_spaces':'req_car_parking',\n",
        "                           'total_of_special_requests':'special_requests',\n",
        "                          },inplace=True)"
      ],
      "metadata": {
        "id": "atICInogMsMl"
      },
      "execution_count": null,
      "outputs": []
    },
    {
      "cell_type": "code",
      "source": [
        "# Drop all duplicate rows\n",
        "hotel_df.drop_duplicates(inplace=True)"
      ],
      "metadata": {
        "id": "dOrN24iQapU1"
      },
      "execution_count": null,
      "outputs": []
    },
    {
      "cell_type": "code",
      "source": [
        "# Drop when value is 0 in all 3 columns (adults,children,babies)\n",
        "hotel_df = hotel_df.drop(hotel_df[(hotel_df.adults + hotel_df.children + hotel_df.babies)==0].index)"
      ],
      "metadata": {
        "id": "d_g6wgGgawVx"
      },
      "execution_count": null,
      "outputs": []
    },
    {
      "cell_type": "code",
      "source": [
        "# Replace all null values in country column by NA\n",
        "hotel_df[\"country\"].fillna(\"NA\",inplace=True)"
      ],
      "metadata": {
        "id": "wk-9a2fpoLcV"
      },
      "execution_count": null,
      "outputs": []
    },
    {
      "cell_type": "code",
      "source": [
        "# Replace all null values in agent column by 0\n",
        "hotel_df.fillna({'agent':0},inplace=True)"
      ],
      "metadata": {
        "id": "BieGmAEMa-yu"
      },
      "execution_count": null,
      "outputs": []
    },
    {
      "cell_type": "code",
      "source": [
        "# Replace all null values in company column by 0\n",
        "hotel_df.fillna({'company':0},inplace=True)"
      ],
      "metadata": {
        "id": "3eRq_jRHbBDL"
      },
      "execution_count": null,
      "outputs": []
    },
    {
      "cell_type": "code",
      "source": [
        "# Replace all null values in children column by 0\n",
        "hotel_df.fillna({'children':0},inplace=True)"
      ],
      "metadata": {
        "id": "iP_6TWTwCODn"
      },
      "execution_count": null,
      "outputs": []
    },
    {
      "cell_type": "code",
      "source": [
        "# Converting data type of children column\n",
        "hotel_df['children']=hotel_df['children'].astype(int)"
      ],
      "metadata": {
        "id": "5Nbijc2p0L0u"
      },
      "execution_count": null,
      "outputs": []
    },
    {
      "cell_type": "code",
      "source": [
        "# Converting data type of agent column\n",
        "hotel_df['agent']=hotel_df['agent'].astype(int)"
      ],
      "metadata": {
        "id": "zg_Y91Um72tn"
      },
      "execution_count": null,
      "outputs": []
    },
    {
      "cell_type": "code",
      "source": [
        "# Converting data type of company column\n",
        "hotel_df['company']=hotel_df['company'].astype(int)"
      ],
      "metadata": {
        "id": "3GSlwHiiva-9"
      },
      "execution_count": null,
      "outputs": []
    },
    {
      "cell_type": "code",
      "source": [
        "# Converting data type of reservation status date to datetime data type\n",
        "hotel_df['reservation_status_date']=hotel_df['reservation_status_date'].astype('datetime64[ns]')"
      ],
      "metadata": {
        "id": "i3i2NY2Mu5VX"
      },
      "execution_count": null,
      "outputs": []
    },
    {
      "cell_type": "code",
      "source": [
        "# Create 'total_nights' column to combine data from weekend nights and week nights\n",
        "hotel_df['total_nights'] = hotel_df['weekend_nights'] + hotel_df['week_nights']"
      ],
      "metadata": {
        "id": "Z6l8SEKvOXN0"
      },
      "execution_count": null,
      "outputs": []
    },
    {
      "cell_type": "code",
      "source": [
        "# Create 'total_guests' column to get data of total guests arrived\n",
        "hotel_df['total_guests'] = hotel_df['adults'] + hotel_df['children'] + hotel_df['babies']"
      ],
      "metadata": {
        "id": "zSVR2fmkuwuY"
      },
      "execution_count": null,
      "outputs": []
    },
    {
      "cell_type": "code",
      "source": [
        "# Checking null values and data type after the required changes made in dataset\n",
        "hotel_df.info()"
      ],
      "metadata": {
        "id": "oaQJ7WpmkrTe"
      },
      "execution_count": null,
      "outputs": []
    },
    {
      "cell_type": "markdown",
      "source": [
        "### What all manipulations have you done and insights you found?"
      ],
      "metadata": {
        "id": "MSa1f5Uengrz"
      }
    },
    {
      "cell_type": "markdown",
      "source": [
        "While analyzing dataset, we found many null values and duplicate values. Before manipulation of data, we created a copy of the hotel booking dataset because of which the changes made in the duplicate dataset won't affect the original dataset.\n",
        "\n",
        "After creating duplicate dataset, we renamed some of the specific columns for ease of our understanding. The duplicates in the dataset were dropped. After analyzing the data, we understood that if the value of all three columns adults,children and babies are 0, then no booking was done and the information in the dataset is incorrect. Therefore, we dropped rows with 0 value in all the three columns. As we dropped unwanted rows, we replaced the null values of 3 columns (adults,children,babies) with 0. We also replaced the null values of country, agent and company columns with 0 value.\n",
        "\n",
        "Accordingly, we observed some columns with float datatype that needs to be in integer form. So, we changed the datatype of children, agent and company from float to integer. Also changed the datatype of reservation_status_date to datetime data type. The data of weekend nights and week nights were combined to obtain total nights/stays of the arrived guests and new column total_nights was created. To know the total guests arrived, we created new column total_guests that is combination of 3 columns - adults, children and babies. \n",
        "\n",
        "The manipulations performed are for better vizualization of the dataset, Also the columns that are not so detailed and not directly related to effect hotel booking were not used during vizualization."
      ],
      "metadata": {
        "id": "LbyXE7I1olp8"
      }
    },
    {
      "cell_type": "markdown",
      "source": [
        "## ***4. Data Vizualization, Storytelling & Experimenting with charts : Understand the relationships between variables***"
      ],
      "metadata": {
        "id": "GF8Ens_Soomf"
      }
    },
    {
      "cell_type": "markdown",
      "source": [
        "#### Chart - 1 - Pie Chart on Repeated Guest"
      ],
      "metadata": {
        "id": "0wOQAZs5pc--"
      }
    },
    {
      "cell_type": "code",
      "source": [
        "# Chart - 1 visualization code \n",
        "# Percentage of Repeated guest\n",
        "hotel_df.is_repeated_guest.value_counts()\n",
        "hotel_df['is_repeated_guest'].value_counts().plot(kind='pie',\n",
        "                                                 figsize=(15,6),\n",
        "                                                 autopct=\"%.2f%%\",\n",
        "                                                 startangle=90,\n",
        "                                                 labels=['0(%)','1(%)'],\n",
        "                                                 colors=['pink','brown'],\n",
        "                                                 explode=[0,0])\n",
        "plt.legend(title='Repeated Guest:') \n",
        "    "
      ],
      "metadata": {
        "id": "7v_ESjsspbW7"
      },
      "execution_count": null,
      "outputs": []
    },
    {
      "cell_type": "markdown",
      "source": [
        "##### 1. Why did you pick the specific chart?"
      ],
      "metadata": {
        "id": "K5QZ13OEpz2H"
      }
    },
    {
      "cell_type": "markdown",
      "source": [
        "A pie chart compares the contribution of each part to the data. It is a circular statistical graphic which is divided into slices to illustrate numerical proportion.\n",
        "\n",
        "For visualizing the percentage of the repeated guest and the non repeated guest, I choosed pie chart as it shows data as a percentage of whole. "
      ],
      "metadata": {
        "id": "XESiWehPqBRc"
      }
    },
    {
      "cell_type": "markdown",
      "source": [
        "##### 2. What is/are the insight(s) found from the chart?"
      ],
      "metadata": {
        "id": "lQ7QKXXCp7Bj"
      }
    },
    {
      "cell_type": "markdown",
      "source": [
        "The following chart helps us understand that there are very less number of repeated guest. The percentage of non-repeated guest is 96.14% , whereas the percentage of repeated guest is 3.86%. "
      ],
      "metadata": {
        "id": "C_j1G7yiqdRP"
      }
    },
    {
      "cell_type": "markdown",
      "source": [
        "##### 3. Will the gained insights help creating a positive business impact? \n",
        "Are there any insights that lead to negative growth? Justify with specific reason."
      ],
      "metadata": {
        "id": "448CDAPjqfQr"
      }
    },
    {
      "cell_type": "markdown",
      "source": [
        "The gained insights helps us to know that repeated guest are less and non repeated guest are excessive. The guest retention rate is very low."
      ],
      "metadata": {
        "id": "3cspy4FjqxJW"
      }
    },
    {
      "cell_type": "markdown",
      "source": [
        "#### Chart - 2 - Pie Chart on Hotel"
      ],
      "metadata": {
        "id": "KSlN3yHqYklG"
      }
    },
    {
      "cell_type": "code",
      "source": [
        "# Chart - 2 visualization code\n",
        "# Percentage of bookings in each hotel\n",
        "hotel_df.hotel.value_counts()\n",
        "hotel_df['hotel'].value_counts().plot(kind='pie',\n",
        "                                        figsize=(15,6),\n",
        "                                        autopct=\"%.2f%%\",\n",
        "                                        startangle=90,\n",
        "                                        shadow=True,\n",
        "                                        labels=['City Hotel(%)','Resort Hotel(%)'],\n",
        "                                        colors=['yellow','red'],\n",
        "                                        explode=[0,0])\n",
        "\n",
        "plt.legend(title='Hotel:')\n"
      ],
      "metadata": {
        "id": "R4YgtaqtYklH"
      },
      "execution_count": null,
      "outputs": []
    },
    {
      "cell_type": "markdown",
      "source": [
        "##### 1. Why did you pick the specific chart?"
      ],
      "metadata": {
        "id": "t6dVpIINYklI"
      }
    },
    {
      "cell_type": "markdown",
      "source": [
        "A pie chart compares the contribution of each part to the data. It is a circular statistical graphic which is divided into slices to illustrate numerical proportion.\n",
        "\n",
        "For visualizing the percentage of the booking at city hotel and resort hotel, I choosed pie chart as it shows data as a percentage of whole. "
      ],
      "metadata": {
        "id": "5aaW0BYyYklI"
      }
    },
    {
      "cell_type": "markdown",
      "source": [
        "##### 2. What is/are the insight(s) found from the chart?"
      ],
      "metadata": {
        "id": "ijmpgYnKYklI"
      }
    },
    {
      "cell_type": "markdown",
      "source": [
        "The following chart helps us understand that the booking of City Hotel is fairly high than that of Resort Hotel. The percentage of City Hotel booking is 61.07% and that of Resort Hotel is 38.93%."
      ],
      "metadata": {
        "id": "PSx9atu2YklI"
      }
    },
    {
      "cell_type": "markdown",
      "source": [
        "##### 3. Will the gained insights help creating a positive business impact? \n",
        "Are there any insights that lead to negative growth? Justify with specific reason."
      ],
      "metadata": {
        "id": "-JiQyfWJYklI"
      }
    },
    {
      "cell_type": "markdown",
      "source": [
        "The gained insights tells us that while booking, City Hotel are more preferable than Resort Hotel."
      ],
      "metadata": {
        "id": "BcBbebzrYklV"
      }
    },
    {
      "cell_type": "markdown",
      "source": [
        "#### Chart - 3 - Displot on meal"
      ],
      "metadata": {
        "id": "EM7whBJCYoAo"
      }
    },
    {
      "cell_type": "code",
      "source": [
        "# Chart - 3 visualization code\n",
        "# Most preferred meal by the guests\n",
        "plt.figure(figsize=(12,5))\n",
        "sns.displot(data=hotel_df,y='meal')\n",
        "plt.title('Meal',fontsize=20,fontweight='bold',c='r')\n",
        "plt.show()\n"
      ],
      "metadata": {
        "id": "t6GMdE67YoAp"
      },
      "execution_count": null,
      "outputs": []
    },
    {
      "cell_type": "markdown",
      "source": [
        "##### 1. Why did you pick the specific chart?"
      ],
      "metadata": {
        "id": "fge-S5ZAYoAp"
      }
    },
    {
      "cell_type": "markdown",
      "source": [
        "Displot (Distribution plot) represents the data in histogram form. It is univariant set of collected data. \n",
        "\n",
        "For visualizing the data distribution of meal, I choosed displot."
      ],
      "metadata": {
        "id": "5dBItgRVYoAp"
      }
    },
    {
      "cell_type": "markdown",
      "source": [
        "##### 2. What is/are the insight(s) found from the chart?"
      ],
      "metadata": {
        "id": "85gYPyotYoAp"
      }
    },
    {
      "cell_type": "markdown",
      "source": [
        "The following chart makes us understand that 'BB' is most preferred meal followed by 'SC' and 'HB', whereas 'FB' is less preferred meal."
      ],
      "metadata": {
        "id": "4jstXR6OYoAp"
      }
    },
    {
      "cell_type": "markdown",
      "source": [
        "##### 3. Will the gained insights help creating a positive business impact? \n",
        "Are there any insights that lead to negative growth? Justify with specific reason."
      ],
      "metadata": {
        "id": "RoGjAbkUYoAp"
      }
    },
    {
      "cell_type": "markdown",
      "source": [
        "The gained insights helps us understand that the favourite meal (i.e.most preferred) of the guests is 'BB' and 'FB' is less preferred meal."
      ],
      "metadata": {
        "id": "zfJ8IqMcYoAp"
      }
    },
    {
      "cell_type": "markdown",
      "source": [
        "#### Chart - 4 - Countplot of Total Nights in each hotel"
      ],
      "metadata": {
        "id": "4Of9eVA-YrdM"
      }
    },
    {
      "cell_type": "code",
      "source": [
        "# Chart - 4 visualization code\n",
        "# Total nights spent by guests at each hotel \n",
        "plt.figure(figsize=(12,5))\n",
        "sns.countplot(data=hotel_df, x='total_nights',hue='hotel',palette='viridis')\n",
        "plt.title('Total Nights in each Hotel',fontsize=20,fontweight='bold',c='black')\n",
        "plt.show()"
      ],
      "metadata": {
        "id": "irlUoxc8YrdO"
      },
      "execution_count": null,
      "outputs": []
    },
    {
      "cell_type": "markdown",
      "source": [
        "##### 1. Why did you pick the specific chart?"
      ],
      "metadata": {
        "id": "iky9q4vBYrdO"
      }
    },
    {
      "cell_type": "markdown",
      "source": [
        "The countplot represents the counts of the observation present in the categorical variable. It uses the concept of a bar chart for the visual depiction.\n",
        "\n",
        "The specific chart will help us to compare total nights with respect to each hotel to check how long guests preferred to stay in each hotel."
      ],
      "metadata": {
        "id": "aJRCwT6DYrdO"
      }
    },
    {
      "cell_type": "markdown",
      "source": [
        "##### 2. What is/are the insight(s) found from the chart?"
      ],
      "metadata": {
        "id": "F6T5p64dYrdO"
      }
    },
    {
      "cell_type": "markdown",
      "source": [
        "The insights from the following chart helps us understand that the guests arriving/booking the hotel tends to stay as long as 4 nights in both the hotels, mostly guests don't prefer to stay more than 4 nights in each hotel."
      ],
      "metadata": {
        "id": "Xx8WAJvtYrdO"
      }
    },
    {
      "cell_type": "markdown",
      "source": [
        "##### 3. Will the gained insights help creating a positive business impact? \n",
        "Are there any insights that lead to negative growth? Justify with specific reason."
      ],
      "metadata": {
        "id": "y-Ehk30pYrdP"
      }
    },
    {
      "cell_type": "markdown",
      "source": [
        "The gained insights shows that the guests booking hotels prefer to stay for few days in both hotel. The factors that gives a common count of stay for maximum guests should be taken care of."
      ],
      "metadata": {
        "id": "jLNxxz7MYrdP"
      }
    },
    {
      "cell_type": "markdown",
      "source": [
        "#### Chart - 5 - Countplot on Deposit Type"
      ],
      "metadata": {
        "id": "bamQiAODYuh1"
      }
    },
    {
      "cell_type": "code",
      "source": [
        "# Chart - 5 visualization code\n",
        "# Countplot on deposit type and hotel\n",
        "sns.set_theme(style='white')\n",
        "plt.figure(figsize=(12,5))\n",
        "sns.countplot(data=hotel_df,x='deposit_type',hue='hotel',palette='coolwarm')\n",
        "plt.title('Deposit Type wrt Hotel',fontsize=20,fontweight='bold',c='black')\n",
        "plt.show()"
      ],
      "metadata": {
        "id": "TIJwrbroYuh3"
      },
      "execution_count": null,
      "outputs": []
    },
    {
      "cell_type": "markdown",
      "source": [
        "##### 1. Why did you pick the specific chart?"
      ],
      "metadata": {
        "id": "QHF8YVU7Yuh3"
      }
    },
    {
      "cell_type": "markdown",
      "source": [
        "The countplot represents the counts of the observation present in the categorical variable. It uses the concept of a bar chart for the visual depiction.\n",
        "\n",
        "I selected the specific chart to know the deposit type used while booking city hotel and resort hotel."
      ],
      "metadata": {
        "id": "dcxuIMRPYuh3"
      }
    },
    {
      "cell_type": "markdown",
      "source": [
        "##### 2. What is/are the insight(s) found from the chart?"
      ],
      "metadata": {
        "id": "GwzvFGzlYuh3"
      }
    },
    {
      "cell_type": "markdown",
      "source": [
        "The insights found from this chart tells us about 3 types of deposit - No deposit, Refundable deposit and Non-refundable deposit. The most preferred deposit type is no deposit(booking without money) followed by non-refundable deposit, whereas refundable deposit is rarely preferred by the guests."
      ],
      "metadata": {
        "id": "uyqkiB8YYuh3"
      }
    },
    {
      "cell_type": "markdown",
      "source": [
        "##### 3. Will the gained insights help creating a positive business impact? \n",
        "Are there any insights that lead to negative growth? Justify with specific reason."
      ],
      "metadata": {
        "id": "qYpmQ266Yuh3"
      }
    },
    {
      "cell_type": "markdown",
      "source": [
        "The gained insights tells us that no deposit (no advance payment) is most preferred deposit type by the guests arriving at each hotel."
      ],
      "metadata": {
        "id": "_WtzZ_hCYuh4"
      }
    },
    {
      "cell_type": "markdown",
      "source": [
        "#### Chart - 6 - Countplot on Customer Type"
      ],
      "metadata": {
        "id": "OH-pJp9IphqM"
      }
    },
    {
      "cell_type": "code",
      "source": [
        "# Chart - 6 visualization code\n",
        "# Countplot on customer type\n",
        "plt.figure(figsize=(12,5))\n",
        "sns.countplot(data=hotel_df, y='customer_type')\n",
        "plt.title('Customer Type',fontsize=20,fontweight='bold',c='black')\n",
        "plt.show()"
      ],
      "metadata": {
        "id": "kuRf4wtuphqN"
      },
      "execution_count": null,
      "outputs": []
    },
    {
      "cell_type": "markdown",
      "source": [
        "##### 1. Why did you pick the specific chart?"
      ],
      "metadata": {
        "id": "bbFf2-_FphqN"
      }
    },
    {
      "cell_type": "markdown",
      "source": [
        "The countplot represents the counts of the observation present in the categorical variable. It uses the concept of a bar chart for the visual depiction.\n",
        "\n",
        "I used countplot to know the different types of customers arriving the hotel."
      ],
      "metadata": {
        "id": "loh7H2nzphqN"
      }
    },
    {
      "cell_type": "markdown",
      "source": [
        "##### 2. What is/are the insight(s) found from the chart?"
      ],
      "metadata": {
        "id": "_ouA3fa0phqN"
      }
    },
    {
      "cell_type": "markdown",
      "source": [
        "We found that there are 4 types of customers - transient, contract, transient-party and group. Most of the customers are transient type followed by transient-party and contract. The group customer type is very less in count."
      ],
      "metadata": {
        "id": "VECbqPI7phqN"
      }
    },
    {
      "cell_type": "markdown",
      "source": [
        "##### 3. Will the gained insights help creating a positive business impact? \n",
        "Are there any insights that lead to negative growth? Justify with specific reason."
      ],
      "metadata": {
        "id": "Seke61FWphqN"
      }
    },
    {
      "cell_type": "markdown",
      "source": [
        "The insights will help in managing the different customer types according to their needs/requirements."
      ],
      "metadata": {
        "id": "DW4_bGpfphqN"
      }
    },
    {
      "cell_type": "markdown",
      "source": [
        "#### Chart - 7 - Countplot on Assigned Room Type"
      ],
      "metadata": {
        "id": "PIIx-8_IphqN"
      }
    },
    {
      "cell_type": "code",
      "source": [
        "# Chart - 7 visualization code\n",
        "# Most assigned room by the guests\n",
        "plt.figure(figsize=(12,5))\n",
        "sns.countplot(data=hotel_df, x='assigned_room',hue='hotel',palette='dark')\n",
        "plt.title('Assigned Room Type',fontsize=20,fontweight='bold',c='brown')\n",
        "plt.show()\n"
      ],
      "metadata": {
        "id": "lqAIGUfyphqO"
      },
      "execution_count": null,
      "outputs": []
    },
    {
      "cell_type": "markdown",
      "source": [
        "##### 1. Why did you pick the specific chart?"
      ],
      "metadata": {
        "id": "t27r6nlMphqO"
      }
    },
    {
      "cell_type": "markdown",
      "source": [
        "The countplot represents the counts of the observation present in the categorical variable. It uses the concept of a bar chart for the visual depiction.\n",
        "\n",
        "The specific chart specifies the most assigned room type in each hotel."
      ],
      "metadata": {
        "id": "iv6ro40sphqO"
      }
    },
    {
      "cell_type": "markdown",
      "source": [
        "##### 2. What is/are the insight(s) found from the chart?"
      ],
      "metadata": {
        "id": "r2jJGEOYphqO"
      }
    },
    {
      "cell_type": "markdown",
      "source": [
        "The insights obtained shows us that the most demanded room type is A in both city and resort hotel. The demand is followed by room type D and E room types."
      ],
      "metadata": {
        "id": "Po6ZPi4hphqO"
      }
    },
    {
      "cell_type": "markdown",
      "source": [
        "##### 3. Will the gained insights help creating a positive business impact? \n",
        "Are there any insights that lead to negative growth? Justify with specific reason."
      ],
      "metadata": {
        "id": "b0JNsNcRphqO"
      }
    },
    {
      "cell_type": "markdown",
      "source": [
        "The gained insights tells us that most assigned room type is A in each hotel, followed by room type D and E. So, to increase business profit we should offer more services as room type A to other room types. This will help to maximize revenue."
      ],
      "metadata": {
        "id": "xvSq8iUTphqO"
      }
    },
    {
      "cell_type": "markdown",
      "source": [
        "#### Chart - 8 - Countplot on Reserved Room Type"
      ],
      "metadata": {
        "id": "7ISQxEZiriv5"
      }
    },
    {
      "cell_type": "code",
      "source": [
        "# Chart - 8 visualization code\n",
        "# Most reserved room type by the guests\n",
        "plt.figure(figsize=(12,5))\n",
        "sns.countplot(data=hotel_df, x='reserved_room',hue='hotel',palette='deep')\n",
        "plt.title('Reserved Room',fontsize=20,fontweight='bold',c='black')\n",
        "plt.show()\n"
      ],
      "metadata": {
        "id": "V_XeQltpriv5"
      },
      "execution_count": null,
      "outputs": []
    },
    {
      "cell_type": "markdown",
      "source": [
        "##### 1. Why did you pick the specific chart?"
      ],
      "metadata": {
        "id": "r4Qg-RTbriv6"
      }
    },
    {
      "cell_type": "markdown",
      "source": [
        "The countplot represents the counts of the observation present in the categorical variable. It uses the concept of a bar chart for the visual depiction.\n",
        "\n",
        "I picked the specific chart to know the most reserved room selected by the guests arriving at each hotel."
      ],
      "metadata": {
        "id": "iGBO-Duuriv6"
      }
    },
    {
      "cell_type": "markdown",
      "source": [
        "##### 2. What is/are the insight(s) found from the chart?"
      ],
      "metadata": {
        "id": "urCIhpRwriv6"
      }
    },
    {
      "cell_type": "markdown",
      "source": [
        "The insights obtained shows us that the most demanded room type is A in both city and resort hotel, followed by room types D and E."
      ],
      "metadata": {
        "id": "6qbyzVtEriv6"
      }
    },
    {
      "cell_type": "markdown",
      "source": [
        "##### 3. Will the gained insights help creating a positive business impact? \n",
        "Are there any insights that lead to negative growth? Justify with specific reason."
      ],
      "metadata": {
        "id": "98K0_gqRriv6"
      }
    },
    {
      "cell_type": "markdown",
      "source": [
        "The gained insights tells us that most reserved room type is A in each hotel, followed by room type D and E. So, to increase business profit we should offer more services as room type A to other room types. This will help to maximize revenue."
      ],
      "metadata": {
        "id": "ShqWqa7Ariv6"
      }
    },
    {
      "cell_type": "markdown",
      "source": [
        "#### Chart - 9 - Scatter plot on Total Nights"
      ],
      "metadata": {
        "id": "BZR9WyysphqO"
      }
    },
    {
      "cell_type": "code",
      "source": [
        "# Chart - 9 visualization code\n",
        "# Scatter plot to see if length of nights affect the adr\n",
        "plt.figure(figsize=(18,6))\n",
        "sns.scatterplot(data=hotel_df,x='total_nights',y='adr')\n",
        "plt.title('Total Nights wrt Adr',fontweight='bold',c='black')\n",
        "plt.show()"
      ],
      "metadata": {
        "id": "TdPTWpAVphqO"
      },
      "execution_count": null,
      "outputs": []
    },
    {
      "cell_type": "code",
      "source": [
        "hotel_df.drop(hotel_df[hotel_df['adr']>5000].index,inplace=True)\n",
        "plt.figure(figsize=(18,6))\n",
        "sns.scatterplot(data=hotel_df,x='total_nights',y='adr')\n",
        "plt.title('Total Nights wrt Adr',c='black')\n",
        "plt.show()"
      ],
      "metadata": {
        "id": "ozCb7w9VnIlj"
      },
      "execution_count": null,
      "outputs": []
    },
    {
      "cell_type": "markdown",
      "source": [
        "##### 1. Why did you pick the specific chart?"
      ],
      "metadata": {
        "id": "jj7wYXLtphqO"
      }
    },
    {
      "cell_type": "markdown",
      "source": [
        "Scatter plots are the graphs that represents the relationship between the specified two variables in the dataset. Each member of the dataset gets plotted as a point whose x-y coordinates relates to its values for the two variables.\n",
        "\n",
        "The specific chart tells us the relationship between total nights and adr. "
      ],
      "metadata": {
        "id": "Ob8u6rCTphqO"
      }
    },
    {
      "cell_type": "markdown",
      "source": [
        "##### 2. What is/are the insight(s) found from the chart?"
      ],
      "metadata": {
        "id": "eZrbJ2SmphqO"
      }
    },
    {
      "cell_type": "markdown",
      "source": [
        "The following chart expresses the relationship between total nights spent by the guests in hotel and adr(average daily rate). From plot, we understand that as length of total nights increases , adr decreases. There is an outlier in adr, so for better result I removed it. "
      ],
      "metadata": {
        "id": "mZtgC_hjphqO"
      }
    },
    {
      "cell_type": "markdown",
      "source": [
        "##### 3. Will the gained insights help creating a positive business impact? \n",
        "Are there any insights that lead to negative growth? Justify with specific reason."
      ],
      "metadata": {
        "id": "rFu4xreNphqO"
      }
    },
    {
      "cell_type": "markdown",
      "source": [
        "The gained insights tells us that as length of total nights increases, adr decreases. This means that for longer stay, the better deal for customers can be finalised."
      ],
      "metadata": {
        "id": "ey_0qi68phqO"
      }
    },
    {
      "cell_type": "markdown",
      "source": [
        "#### Chart - 10 - Lineplot ADR with respect to arrival month"
      ],
      "metadata": {
        "id": "YJ55k-q6phqO"
      }
    },
    {
      "cell_type": "code",
      "source": [
        "# Chart - 10 visualization code\n",
        "# Lineplot ADR with respect to arrival month\n",
        "plt.figure(figsize=(15,6))\n",
        "sns.lineplot(data=hotel_df,x='arrival_month',y='adr',c='green')\n",
        "plt.title('ADR with respect to arrival month',fontweight='bold',c='black')\n",
        "plt.show()"
      ],
      "metadata": {
        "id": "B2aS4O1ophqO"
      },
      "execution_count": null,
      "outputs": []
    },
    {
      "cell_type": "markdown",
      "source": [
        "##### 1. Why did you pick the specific chart?"
      ],
      "metadata": {
        "id": "I-DPcfHcmq2x"
      }
    },
    {
      "cell_type": "markdown",
      "source": [
        "A line chart is a graphical representation of an asset's historical price action that connects a series of data points with a continuous line. It shows the relationship between two variables.\n",
        "\n",
        "The specific chart shows the relationship between arrival of customer per month and adr(average daily rate)."
      ],
      "metadata": {
        "id": "nsoS_5sAmq2x"
      }
    },
    {
      "cell_type": "markdown",
      "source": [
        "##### 2. What is/are the insight(s) found from the chart?"
      ],
      "metadata": {
        "id": "o5fPYr2Wmvpe"
      }
    },
    {
      "cell_type": "markdown",
      "source": [
        "The insights represents that adr is directly proportional to arrival of customers per month. Higher the number of customers, higher is adr(average daily rate). Accordingly, adr is highest during august month then gradually decreases."
      ],
      "metadata": {
        "id": "nhDoqED7mvpe"
      }
    },
    {
      "cell_type": "markdown",
      "source": [
        "#### Chart - 11 - Countplot on Customers Arrival "
      ],
      "metadata": {
        "id": "DPwieZ5Bplvl"
      }
    },
    {
      "cell_type": "code",
      "source": [
        "# Chart - 11 visualization code\n",
        "# Countplot on arrival of children, adults, babies in each hotel\n",
        "plt.figure(figsize=(18, 9))\n",
        "plt.subplot(1,2,1)\n",
        "sns.countplot(data = hotel_df, x = 'children',hue='hotel',palette='dark')\n",
        "plt.title('Children Arrival in each Hotel',fontweight=\"bold\", size=20)\n",
        "plt.subplot(1,2,2)\n",
        "sns.countplot(data=hotel_df,x='adults',hue='hotel',palette='bright')\n",
        "plt.title('Adults Arrival in each Hotel',fontweight=\"bold\",size=20)\n",
        "plt.subplots_adjust(right=2)\n",
        "plt.show()\n",
        "plt.subplot(2,1,1)\n",
        "sns.countplot(data=hotel_df,x='babies',hue='hotel',palette='colorblind')\n",
        "plt.title('Babies Arrival in each Hotel',fontweight=\"bold\",size=20)\n",
        "plt.show()"
      ],
      "metadata": {
        "id": "FKIh9oW8plvl"
      },
      "execution_count": null,
      "outputs": []
    },
    {
      "cell_type": "markdown",
      "source": [
        "##### 1. Why did you pick the specific chart?"
      ],
      "metadata": {
        "id": "rU6RcDnVplvl"
      }
    },
    {
      "cell_type": "markdown",
      "source": [
        "The countplot represents the counts of the observation present in the categorical variable. It uses the concept of a bar chart for the visual depiction.\n",
        "\n",
        "The chart tells us about arrival of customers of different age group i.e. children, adults, babies in each hotel."
      ],
      "metadata": {
        "id": "Suh1aZ2aplvl"
      }
    },
    {
      "cell_type": "markdown",
      "source": [
        "##### 2. What is/are the insight(s) found from the chart?"
      ],
      "metadata": {
        "id": "QD3Gu4Whplvl"
      }
    },
    {
      "cell_type": "markdown",
      "source": [
        "The insights found from the chart is that adults are most likely to make arrival in both the hotels and mostly 2 adults arrive together at the hotel. In all age groups, higher number of arrival is seen in the city hotel. "
      ],
      "metadata": {
        "id": "P1x6ytW7plvl"
      }
    },
    {
      "cell_type": "markdown",
      "source": [
        "##### 3. Will the gained insights help creating a positive business impact? \n",
        "Are there any insights that lead to negative growth? Justify with specific reason."
      ],
      "metadata": {
        "id": "slyQAahtplvm"
      }
    },
    {
      "cell_type": "markdown",
      "source": [
        "The gained insights helps us understand the target age group i.e. adults . To maximize revenue, more exciting offers should be provided to pair of 2 adults arriving together. "
      ],
      "metadata": {
        "id": "Jo87r98-plvm"
      }
    },
    {
      "cell_type": "markdown",
      "source": [
        "#### Chart - 12 - Barplot on Agent "
      ],
      "metadata": {
        "id": "U2RJ9gkRphqQ"
      }
    },
    {
      "cell_type": "code",
      "source": [
        "# Chart - 12 visualization code\n",
        "# Bar graph to know the agent with maximum number of bookings\n",
        "plt.figure(figsize=(15,6))\n",
        "agent_data= hotel_df['agent'].value_counts()[:10]\n",
        "sns.barplot(y=agent_data,x=agent_data.index,orient='v',color='brown')\n",
        "plt.xlabel('Number of Bookings')\n",
        "plt.show()"
      ],
      "metadata": {
        "id": "GM7a4YP4phqQ"
      },
      "execution_count": null,
      "outputs": []
    },
    {
      "cell_type": "markdown",
      "source": [
        "##### 1. Why did you pick the specific chart?"
      ],
      "metadata": {
        "id": "1M8mcRywphqQ"
      }
    },
    {
      "cell_type": "markdown",
      "source": [
        "Bar graphs are the pictorial representation of data in the form of vertical or horizontal rectangular bars, where the length of bars are proportional to the measure of data. It is fundamental visualization used for comparing different sets of data and shows the relationship between two axes.\n",
        "\n",
        "The specific chart tells us about the agent who made higher number of booking."
      ],
      "metadata": {
        "id": "8agQvks0phqQ"
      }
    },
    {
      "cell_type": "markdown",
      "source": [
        "##### 2. What is/are the insight(s) found from the chart?"
      ],
      "metadata": {
        "id": "tgIPom80phqQ"
      }
    },
    {
      "cell_type": "markdown",
      "source": [
        "The insights found from the chart are that agent 9 has made most number of bookings."
      ],
      "metadata": {
        "id": "Qp13pnNzphqQ"
      }
    },
    {
      "cell_type": "markdown",
      "source": [
        "#### Chart - 13 - Barplot on top 10 Country"
      ],
      "metadata": {
        "id": "x-EpHcCOp1ci"
      }
    },
    {
      "cell_type": "code",
      "source": [
        "# Chart - 13 visualization code\n",
        "# Barplot on top 10 country wrt number of bookings\n",
        "hotel_df.country.value_counts().head(10).plot.bar(color=['indigo','violet','r','g','b','y','orange'])\n",
        "plt.title('Top 10 Country',fontsize=20)\n",
        "plt.xlabel('country',fontweight='bold',fontsize=15)\n",
        "plt.show()"
      ],
      "metadata": {
        "id": "mAQTIvtqp1cj"
      },
      "execution_count": null,
      "outputs": []
    },
    {
      "cell_type": "markdown",
      "source": [
        "##### 1. Why did you pick the specific chart?"
      ],
      "metadata": {
        "id": "X_VqEhTip1ck"
      }
    },
    {
      "cell_type": "markdown",
      "source": [
        "Bar graphs are the pictorial representation of data in the form of vertical or horizontal rectangular bars, where the length of bars are proportional to the measure of data. It is fundamental visualization used for comparing different sets of data and shows the relationship between two axes.\n",
        "\n",
        "I choosed the specific chart to know top 10 country relative to number of guests arriving the hotel."
      ],
      "metadata": {
        "id": "-vsMzt_np1ck"
      }
    },
    {
      "cell_type": "markdown",
      "source": [
        "##### 2. What is/are the insight(s) found from the chart?"
      ],
      "metadata": {
        "id": "8zGJKyg5p1ck"
      }
    },
    {
      "cell_type": "markdown",
      "source": [
        "The insights found from the chart is that PRT is the top country from where most of the hotel booking were done which is 20977 bookings followed by GBR, FRA, ESP, DEU, IRL , ITA, BEL, NLD and USA."
      ],
      "metadata": {
        "id": "ZYdMsrqVp1ck"
      }
    },
    {
      "cell_type": "markdown",
      "source": [
        "##### 3. Will the gained insights help creating a positive business impact? \n",
        "Are there any insights that lead to negative growth? Justify with specific reason."
      ],
      "metadata": {
        "id": "PVzmfK_Ep1ck"
      }
    },
    {
      "cell_type": "markdown",
      "source": [
        "The gained insights will help us to know the countries that make higher number of bookings, whereas we also need to focus on the reasons behind less bookings done by other countries."
      ],
      "metadata": {
        "id": "druuKYZpp1ck"
      }
    },
    {
      "cell_type": "markdown",
      "source": [
        "#### Chart - 14 - Bar Chart on Children arriving yearly"
      ],
      "metadata": {
        "id": "n3dbpmDWp1ck"
      }
    },
    {
      "cell_type": "code",
      "source": [
        "# Chart - 14 visualization code\n",
        "# Bar chart on children arriving yearly at each hotel\n",
        "plt.figure(figsize=(12,5))\n",
        "sns.barplot(data=hotel_df,x='arrival_year',y='children',hue='hotel',palette='magma') \n",
        "plt.title('Children Yearly Arrival',fontweight='bold',fontsize=20)\n",
        "plt.show() "
      ],
      "metadata": {
        "id": "bwevp1tKp1ck"
      },
      "execution_count": null,
      "outputs": []
    },
    {
      "cell_type": "markdown",
      "source": [
        "##### 1. Why did you pick the specific chart?"
      ],
      "metadata": {
        "id": "ylSl6qgtp1ck"
      }
    },
    {
      "cell_type": "markdown",
      "source": [
        "Bar graphs are the pictorial representation of data in the form of vertical or horizontal rectangular bars, where the length of bars are proportional to the measure of data. It is fundamental visualization used for comparing different sets of data and shows the relationship between two axes.\n",
        "\n",
        "To know the yearly arrival of children at each hotel and their growth we choosed bar graph."
      ],
      "metadata": {
        "id": "m2xqNkiQp1ck"
      }
    },
    {
      "cell_type": "markdown",
      "source": [
        "##### 2. What is/are the insight(s) found from the chart?"
      ],
      "metadata": {
        "id": "ZWILFDl5p1ck"
      }
    },
    {
      "cell_type": "markdown",
      "source": [
        "The insights from the chart tells us that from year 2015 to 2016, arrival of children increased slightly in the resort hotel, whereas there was noticable increase in the city hotel. The arrivate rate is maximum in year 2017 so gradually the children arrival is increasing with passing time."
      ],
      "metadata": {
        "id": "x-lUsV2mp1ck"
      }
    },
    {
      "cell_type": "markdown",
      "source": [
        "#### Chart - 15 - Lineplot on Adults Monthly Arrival"
      ],
      "metadata": {
        "id": "Ag9LCva-p1cl"
      }
    },
    {
      "cell_type": "code",
      "source": [
        "# Chart - 15 visualization code\n",
        "# Lineplot on adults arrival \n",
        "plt.figure(figsize=(15,6))\n",
        "sns.lineplot(data=hotel_df,x='arrival_month',y='adults',c='hotpink')\n",
        "plt.title('Adults Monthly Arrival',fontweight='bold',fontsize=20,c='black')\n",
        "plt.show()"
      ],
      "metadata": {
        "id": "EUfxeq9-p1cl"
      },
      "execution_count": null,
      "outputs": []
    },
    {
      "cell_type": "markdown",
      "source": [
        "##### 1. Why did you pick the specific chart?"
      ],
      "metadata": {
        "id": "E6MkPsBcp1cl"
      }
    },
    {
      "cell_type": "markdown",
      "source": [
        "A line chart is a graphical representation of an asset's historical price action that connects a series of data points with a continuous line. It shows the relationship between two variables.\n",
        "\n",
        "I picked this chart to compare arrival of adults with respect to month to check in which month most of the adults arrived or made booking."
      ],
      "metadata": {
        "id": "V22bRsFWp1cl"
      }
    },
    {
      "cell_type": "markdown",
      "source": [
        "##### 2. What is/are the insight(s) found from the chart?"
      ],
      "metadata": {
        "id": "2cELzS2fp1cl"
      }
    },
    {
      "cell_type": "markdown",
      "source": [
        "The insights found from the chart is that most of the adults visited Hotel in month of July-August and least people visited hotel in month of November. This chart can give clear idea about when most of the people visits hotel."
      ],
      "metadata": {
        "id": "ozQPc2_Ip1cl"
      }
    },
    {
      "cell_type": "markdown",
      "source": [
        "##### 3. Will the gained insights help creating a positive business impact? \n",
        "Are there any insights that lead to negative growth? Justify with specific reason."
      ],
      "metadata": {
        "id": "3MPXvC8up1cl"
      }
    },
    {
      "cell_type": "markdown",
      "source": [
        "The gained insight make us understand that in July & August month most of the bookings were made which means some offers/ discount were provided during these months or due to holidays most booking were done. Also need to work on those same factors to improve booking in other months as well."
      ],
      "metadata": {
        "id": "GL8l1tdLp1cl"
      }
    },
    {
      "cell_type": "markdown",
      "source": [
        "#### Chart - 16 - Boxplot on Lead time wrt Yearly arrival in both the hotels"
      ],
      "metadata": {
        "id": "lKogcMdatJAW"
      }
    },
    {
      "cell_type": "code",
      "source": [
        "# Chart - 16 visualization code\n",
        "# Boxplot on Lead time wrt Yearly arrival in both the hotels\n",
        "plt.figure(figsize=(15, 9))\n",
        "sns.boxplot(data= hotel_df,x='arrival_year', y='lead_time',hue='hotel',palette='rainbow_r',saturation =0.9)\n",
        "plt.title(\"Lead time wrt yearly arrival in Both hotels\",fontweight=\"bold\", size=20)\n",
        "plt.show()"
      ],
      "metadata": {
        "id": "eIruRVlttJAX"
      },
      "execution_count": null,
      "outputs": []
    },
    {
      "cell_type": "markdown",
      "source": [
        "##### 1. Why did you pick the specific chart?"
      ],
      "metadata": {
        "id": "8-H9exX8tJAX"
      }
    },
    {
      "cell_type": "markdown",
      "source": [
        "Boxplots are a measure of how well the data is distributed in the dataset. These charts display ranges within variables measured. This includes the outliers, the median, the mode, and where the majority of the data points lie in the “box”."
      ],
      "metadata": {
        "id": "aRQjiiMDtJAX"
      }
    },
    {
      "cell_type": "markdown",
      "source": [
        "##### 2. What is/are the insight(s) found from the chart?"
      ],
      "metadata": {
        "id": "HlFSYyljtJAX"
      }
    },
    {
      "cell_type": "markdown",
      "source": [
        "The insights found from the above charts help us to identify high level information at a glance to offer general information about data group. The graph is of lead time wrt yearly arrival in both the hotels. It is clear from above graphs that there are outliers present in every arrival year."
      ],
      "metadata": {
        "id": "P75uJ6k6tJAX"
      }
    },
    {
      "cell_type": "markdown",
      "source": [
        "#### Chart - 17 - Boxplot on Total guests wrt Total Nights "
      ],
      "metadata": {
        "id": "cTsrl0zat6pp"
      }
    },
    {
      "cell_type": "code",
      "source": [
        "# Chart - 17 visualization code\n",
        "# Boxplot on total guests with respect to total nights in both the hotels\n",
        "plt.figure(figsize=(15, 8))\n",
        "sns.boxplot(data= hotel_df,x='total_guests', y='total_nights',hue='hotel',palette='rocket',saturation =0.9)\n",
        "plt.title(\"Total Guests wrt Total Nights\",fontweight=\"bold\", size=20)\n",
        "plt.show()"
      ],
      "metadata": {
        "id": "5u2pYgAIt6pp"
      },
      "execution_count": null,
      "outputs": []
    },
    {
      "cell_type": "markdown",
      "source": [
        "##### 1. Why did you pick the specific chart?"
      ],
      "metadata": {
        "id": "8_KVygCft6pp"
      }
    },
    {
      "cell_type": "markdown",
      "source": [
        "Boxplots are a measure of how well the data is distributed in the dataset. These charts display ranges within variables measured. This includes the outliers, the median, the mode, and where the majority of the data points lie in the “box”."
      ],
      "metadata": {
        "id": "UHqR7XkSt6pp"
      }
    },
    {
      "cell_type": "markdown",
      "source": [
        "##### 2. What is/are the insight(s) found from the chart?"
      ],
      "metadata": {
        "id": "F1KshX_2t6pp"
      }
    },
    {
      "cell_type": "markdown",
      "source": [
        "The insights found from the chart is that values are positively linearly distributed, also in some case there is no outliers and in some values outliers can be seen. Like in 'total guests' of 5 guests there is no outlier present. In 1,2 & 4 number of guests outliers can be clearly seen."
      ],
      "metadata": {
        "id": "uESk-j1zt6pq"
      }
    },
    {
      "cell_type": "markdown",
      "source": [
        "#### Chart - 18 - Barplot on Cancelled Booking wrt Lead Time"
      ],
      "metadata": {
        "id": "OyUpylvyzId-"
      }
    },
    {
      "cell_type": "code",
      "source": [
        "# Chart - 18 visualization code\n",
        "# Barplot on booking camcelled by the customers with respect to lead time\n",
        "plt.figure(figsize=(15, 6))\n",
        "sns.barplot(data= hotel_df,x='is_canceled', y='lead_time',hue='hotel',palette='rocket',saturation =0.9)\n",
        "plt.title(\"Cancelled booking wrt Lead time\",fontweight=\"bold\", size=20)\n",
        "plt.show()"
      ],
      "metadata": {
        "id": "sCTj_jOSzId-"
      },
      "execution_count": null,
      "outputs": []
    },
    {
      "cell_type": "markdown",
      "source": [
        "##### 1. Why did you pick the specific chart?"
      ],
      "metadata": {
        "id": "v9F7G36KzId-"
      }
    },
    {
      "cell_type": "markdown",
      "source": [
        "Bar graphs are the pictorial representation of data in the form of vertical or horizontal rectangular bars, where the length of bars are proportional to the measure of data. It is fundamental visualization used for comparing different sets of data and shows the relationship between two axes.\n",
        "\n",
        "To show number of canceled hotels with respect to lead time, I used bar chart as it is easy to understand data and visually appealing to get quick data insights without digging much."
      ],
      "metadata": {
        "id": "qtdCH-aJzId_"
      }
    },
    {
      "cell_type": "markdown",
      "source": [
        "##### 2. What is/are the insight(s) found from the chart?"
      ],
      "metadata": {
        "id": "1pgxEb2hzId_"
      }
    },
    {
      "cell_type": "markdown",
      "source": [
        "The insights shows that with respect to lead time, the bookings cancellation has increased. The number of cancelled booking of hotel is higher as compare to the number of guests visited. "
      ],
      "metadata": {
        "id": "YiqF5gydzId_"
      }
    },
    {
      "cell_type": "markdown",
      "source": [
        "##### 3. Will the gained insights help creating a positive business impact? \n",
        "Are there any insights that lead to negative growth? Justify with specific reason."
      ],
      "metadata": {
        "id": "HaDB6DwNzId_"
      }
    },
    {
      "cell_type": "markdown",
      "source": [
        "To create a positive business impact, we need to know the reason behind cancellations and try to sort the issues that makes customer unsatisfied."
      ],
      "metadata": {
        "id": "JHinV3t1zId_"
      }
    },
    {
      "cell_type": "markdown",
      "source": [
        "#### Chart - 19 - Correlation Heatmap"
      ],
      "metadata": {
        "id": "NC_X3p0fY2L0"
      }
    },
    {
      "cell_type": "code",
      "source": [
        "# Correlation Heatmap visualization code\n",
        "plt.figure(figsize=(20,8))\n",
        "correlation_data = hotel_df[['hotel','is_canceled','lead_time','arrival_year',\n",
        "                    'arrival_month','arrival_week_no',\n",
        "                    'arrival_day','weekend_nights',\n",
        "                    'week_nights','adults','children','babies','meal',\n",
        "                    'country','market_segment','distribution_channel',\n",
        "                    'is_repeated_guest','previous_cancellations',\n",
        "                    'previous_bookings','reserved_room',\n",
        "                    'assigned_room','booking_changes', 'deposit_type',\n",
        "                    'agent','company','days_in_waiting','customer_type',\n",
        "                    'adr','req_car_parking',\n",
        "                    'special_requests','reservation_status',\n",
        "                    'reservation_status_date','total_nights','total_guests']]\n",
        "corr= correlation_data.corr()                       \n",
        "sns.heatmap(corr,cmap='RdBu',annot=True,vmin=-1,vmax=1)\n",
        "plt.show()                    \n"
      ],
      "metadata": {
        "id": "xyC9zolEZNRQ"
      },
      "execution_count": null,
      "outputs": []
    },
    {
      "cell_type": "markdown",
      "source": [
        "##### 1. Why did you pick the specific chart?"
      ],
      "metadata": {
        "id": "UV0SzAkaZNRQ"
      }
    },
    {
      "cell_type": "markdown",
      "source": [
        "Correlation heatmaps are a type of plot that visualize the strength of relationships between numerical variables. Correlation plots are used to understand which variables are related to each other and the strength of this relationship.\n",
        "\n",
        "I used the correlation heatmap to find correlation between all the variables along with correlation coefficient."
      ],
      "metadata": {
        "id": "DVPuT8LYZNRQ"
      }
    },
    {
      "cell_type": "markdown",
      "source": [
        "##### 2. What is/are the insight(s) found from the chart?"
      ],
      "metadata": {
        "id": "YPEH6qLeZNRQ"
      }
    },
    {
      "cell_type": "markdown",
      "source": [
        "From the above correlation heatmap, we can see that there is correlation between adults, total number of guests, total stays, stays in week nights, stays in weekend nights and total stays.\n",
        "\n",
        "There is no linear trend between arrival year and arrival week number, total of special request and is canceled."
      ],
      "metadata": {
        "id": "bfSqtnDqZNRR"
      }
    },
    {
      "cell_type": "markdown",
      "source": [
        "#### Chart - 20 - Pair Plot "
      ],
      "metadata": {
        "id": "q29F0dvdveiT"
      }
    },
    {
      "cell_type": "code",
      "source": [
        "# Pair Plot visualization code\n",
        "sns.pairplot(hotel_data)\n",
        "plt.show()"
      ],
      "metadata": {
        "id": "o58-TEIhveiU"
      },
      "execution_count": null,
      "outputs": []
    },
    {
      "cell_type": "markdown",
      "source": [
        "##### 1. Why did you pick the specific chart?"
      ],
      "metadata": {
        "id": "EXh0U9oCveiU"
      }
    },
    {
      "cell_type": "markdown",
      "source": [
        "Pairplot visualizes given data to find the relationship between them where the variables can be continuous or categorical. Pairplot allows us to plot pairwise relationships between variables within a dataset.\n",
        "\n",
        "The specific chart consists of entire dataset with each variable plotted. The plots are in matrix in which column name represents y-axis and row name represents x-axis. "
      ],
      "metadata": {
        "id": "eMmPjTByveiU"
      }
    },
    {
      "cell_type": "markdown",
      "source": [
        "##### 2. What is/are the insight(s) found from the chart?"
      ],
      "metadata": {
        "id": "22aHeOlLveiV"
      }
    },
    {
      "cell_type": "markdown",
      "source": [
        "The pairplot basically plots entire dataframe. Plots between each column take place in pairplot and a big plot is created to compare overall relationship between each column. In the pairplot of entire dataframe we can observe linear relationship between some columns, also clusters can be seen in leadtime with arrival week number, arrival day of month,stay in week nights, stay in weekend nights, agent, company,total stays, agent & company with arrival week number, arrival day of month. Outliers can be seen in adr and arrival week number,arrival month, day, lead time. This creates nice visualization and helps us understand the large amount of data in a single figure."
      ],
      "metadata": {
        "id": "uPQ8RGwHveiV"
      }
    },
    {
      "cell_type": "markdown",
      "source": [
        "## **5. Solution to Business Objective**"
      ],
      "metadata": {
        "id": "JcMwzZxoAimU"
      }
    },
    {
      "cell_type": "markdown",
      "source": [
        "#### What do you suggest the client to achieve Business Objective ? \n",
        "Explain Briefly."
      ],
      "metadata": {
        "id": "8G2x9gOozGDZ"
      }
    },
    {
      "cell_type": "markdown",
      "source": [
        "1. City hotels were more popular than Resort hotels in the dataset used for analysis. Most of the booking were made of City Hotel which is about 61.07% whereas Resort hotel booking was only 38.93% that gives an idea that most people prefer City Hotels.\n",
        "\n",
        "2. The customer retention rate is low as the count of repeated guests in both the hotels are way less than total booking of hotel at first time.\n",
        "\n",
        "3. Most popular meal was BB which gives an idea about which is the best dish to try at a hotel for customers.\n",
        "\n",
        "\n",
        "4. Most of the reserved room was A, so need to increase service of other rooms to increase good customer experience.\n",
        "\n",
        "5. Maximun number of bookings were done in the month of July and August which can be due to any offer of discount or holiday season so business owner needs to work on discount and other factor to know about the reason.\n",
        "\n",
        "6. The customers booking hotel are mostly pair of adults.\n",
        "\n",
        "7. Top 10 countries to make hotel bookings are Portugal, United Kingdom, France,Spain, Germany, Ireland, Italy, Belgium, Netherlands & USA. The maximum number of bookings is done by Portugal.\n",
        "\n",
        "8. Highest ADR is achieved in month of August, whereas it is lowest in January month."
      ],
      "metadata": {
        "id": "pASKb0qOza21"
      }
    },
    {
      "cell_type": "markdown",
      "source": [
        "# **Conclusion**"
      ],
      "metadata": {
        "id": "gCX9965dhzqZ"
      }
    },
    {
      "cell_type": "markdown",
      "source": [
        "The conclusion derived from hotel booking analysis are as follows:\n",
        "\n",
        "1. The guest retention rate is very low as the repeated guest are less and non repeated guest are excessive. \n",
        "\n",
        "2. City Hotel were more preferable than Resort Hotel with 61.07% bookings in city hotel and 38.93% bookings in resort hotel.\n",
        "\n",
        "3. The favourite meal of the customers is 'BB'. \n",
        "\n",
        "4. The guests arriving the hotel tends to stay as long as 4 nights in both the hotels and less preference is given to the stays more than 4 nights in each hotel.\n",
        "\n",
        "5. The maximum type of customers are of transient type.\n",
        "\n",
        "6. Most of the reserved room was A, so need to increase type A room also need to work on other type of room as well.\n",
        "\n",
        "7. Most arriving customers are pair of adults so need to work on other age group as well like children.\n",
        "\n",
        "8. The length of total nights increases, adr decreases.\n",
        "\n",
        "9. Most of the bookings were done in month of July-August, means this months are the businest or profitable months for hotel business.\n",
        "\n",
        "10. Booking were made from different country, but most of the booking were made by Portugal country.\n",
        "\n",
        "11. Maximum number of the bookings are done by Agent 9.\n",
        "\n",
        "12. ADR tends to increase with number of customers arrived per month, also it is seen that ADR increases at end of month.\n"
      ],
      "metadata": {
        "id": "Fjb1IsQkh3yE"
      }
    },
    {
      "cell_type": "markdown",
      "source": [
        "### ***Hurrah! You have successfully completed your EDA Capstone Project !!!***"
      ],
      "metadata": {
        "id": "gIfDvo9L0UH2"
      }
    }
  ]
}